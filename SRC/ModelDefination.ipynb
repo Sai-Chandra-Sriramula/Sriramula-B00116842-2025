{
 "cells": [
  {
   "cell_type": "code",
   "execution_count": 1,
   "metadata": {},
   "outputs": [],
   "source": [
    "import tensorflow as tf\n",
    "from tensorflow.keras.layers import Embedding, LSTM, Dense, AdditiveAttention\n",
    "from tensorflow.keras.models import Model\n",
    "import pickle\n",
    "import numpy as np\n",
    "\n",
    "# Load precomputed image features\n",
    "with open(\"features_inception.pkl\", \"rb\") as f:\n",
    "    image_features = pickle.load(f)\n",
    "\n",
    "# Define model parameters\n",
    "embedding_dim = 256\n",
    "units = 512\n",
    "vocab_size = 5000  # This should match your tokenizer vocabulary size"
   ]
  },
  {
   "cell_type": "code",
   "execution_count": 2,
   "metadata": {},
   "outputs": [],
   "source": [
    "# CNN Encoder\n",
    "class CNN_Encoder(Model):\n",
    "    def __init__(self, embed_dim):\n",
    "        super(CNN_Encoder, self).__init__()\n",
    "        self.fc = Dense(embed_dim, activation=\"relu\")\n",
    "    \n",
    "    def call(self, x):\n",
    "        x = self.fc(x)\n",
    "        return x"
   ]
  },
  {
   "cell_type": "code",
   "execution_count": 3,
   "metadata": {},
   "outputs": [
    {
     "name": "stdout",
     "output_type": "stream",
     "text": [
      "Model structure defined successfully.\n"
     ]
    }
   ],
   "source": [
    "# RNN Decoder with Attention\n",
    "class RNN_Decoder(Model):\n",
    "    def __init__(self, vocab_size, embed_dim, units):\n",
    "        super(RNN_Decoder, self).__init__()\n",
    "        self.embedding = Embedding(vocab_size, embed_dim)\n",
    "        self.lstm = LSTM(units, return_sequences=True, return_state=True)\n",
    "        self.fc = Dense(vocab_size)\n",
    "        self.attention = AdditiveAttention()\n",
    "    \n",
    "    def call(self, x, hidden, features):\n",
    "        context_vector, _ = self.attention([tf.expand_dims(hidden, 1), features], return_attention_scores=True)\n",
    "        x = self.embedding(x)\n",
    "        x = tf.concat([tf.expand_dims(context_vector, 1), x], axis=-1)\n",
    "        output, state_h, state_c = self.lstm(x)\n",
    "        x = self.fc(output)\n",
    "        return x, state_h, state_c\n",
    "\n",
    "# Instantiate models\n",
    "encoder = CNN_Encoder(embedding_dim)\n",
    "decoder = RNN_Decoder(vocab_size, embedding_dim, units)\n",
    "\n",
    "print(\"Model structure defined successfully.\")\n"
   ]
  }
 ],
 "metadata": {
  "kernelspec": {
   "display_name": "Python 3",
   "language": "python",
   "name": "python3"
  },
  "language_info": {
   "codemirror_mode": {
    "name": "ipython",
    "version": 3
   },
   "file_extension": ".py",
   "mimetype": "text/x-python",
   "name": "python",
   "nbconvert_exporter": "python",
   "pygments_lexer": "ipython3",
   "version": "3.12.0"
  }
 },
 "nbformat": 4,
 "nbformat_minor": 2
}
