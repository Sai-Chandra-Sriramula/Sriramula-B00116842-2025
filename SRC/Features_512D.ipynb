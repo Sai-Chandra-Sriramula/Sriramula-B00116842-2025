{
 "cells": [
  {
   "cell_type": "code",
   "execution_count": 3,
   "metadata": {},
   "outputs": [
    {
     "name": "stdout",
     "output_type": "stream",
     "text": [
      "Original InceptionV3 Feature Shape: (8091, 2048)\n",
      "Original ResNet50 Feature Shape: (8091, 2048)\n",
      "Reduced InceptionV3 Feature Shape: (8091, 512)\n",
      "Reduced ResNet50 Feature Shape: (8091, 512)\n",
      "✅ Reduced features saved as 'features_inception_512.pkl' and 'features_resnet_512.pkl'\n"
     ]
    }
   ],
   "source": [
    "import pickle\n",
    "import numpy as np\n",
    "from sklearn.decomposition import PCA\n",
    "\n",
    "# -----------------------\n",
    "# **Load Extracted Features**\n",
    "# -----------------------\n",
    "with open(\"features_inception.pkl\", \"rb\") as f:\n",
    "    features_inception = pickle.load(f)\n",
    "\n",
    "with open(\"features_resnet.pkl\", \"rb\") as f:\n",
    "    features_resnet = pickle.load(f)\n",
    "\n",
    "# Convert feature dictionaries to numpy arrays\n",
    "inception_vectors = np.array(list(features_inception.values())).squeeze(axis=1)  # Shape (num_images, 2048)\n",
    "resnet_vectors = np.array(list(features_resnet.values())).squeeze(axis=1)  # Shape (num_images, 2048)\n",
    "\n",
    "print(f\"Original InceptionV3 Feature Shape: {inception_vectors.shape}\")  # Expected (8091, 2048)\n",
    "print(f\"Original ResNet50 Feature Shape: {resnet_vectors.shape}\")  # Expected (8091, 2048)\n",
    "\n",
    "# -----------------------\n",
    "# **Apply PCA to Reduce to 512D**\n",
    "# -----------------------\n",
    "pca_512 = PCA(n_components=512)\n",
    "\n",
    "inception_reduced = pca_512.fit_transform(inception_vectors)  # Shape (num_images, 512)\n",
    "resnet_reduced = pca_512.fit_transform(resnet_vectors)  # Shape (num_images, 512)\n",
    "\n",
    "print(f\"Reduced InceptionV3 Feature Shape: {inception_reduced.shape}\")  # Expected (8091, 512)\n",
    "print(f\"Reduced ResNet50 Feature Shape: {resnet_reduced.shape}\")  # Expected (8091, 512)\n",
    "\n",
    "# -----------------------\n",
    "# **Save Reduced Features as Pickle**\n",
    "# -----------------------\n",
    "# Convert back to dictionary format {image_id: reduced_feature}\n",
    "reduced_inception_dict = {key: inception_reduced[i] for i, key in enumerate(features_inception.keys())}\n",
    "reduced_resnet_dict = {key: resnet_reduced[i] for i, key in enumerate(features_resnet.keys())}\n",
    "\n",
    "# Save the reduced feature dictionaries\n",
    "with open(\"features_inception_512.pkl\", \"wb\") as f:\n",
    "    pickle.dump(reduced_inception_dict, f)\n",
    "\n",
    "with open(\"features_resnet_512.pkl\", \"wb\") as f:\n",
    "    pickle.dump(reduced_resnet_dict, f)\n",
    "\n",
    "print(\"✅ Reduced features saved as 'features_inception_512.pkl' and 'features_resnet_512.pkl'\")\n"
   ]
  }
 ],
 "metadata": {
  "kernelspec": {
   "display_name": "Python 3",
   "language": "python",
   "name": "python3"
  },
  "language_info": {
   "codemirror_mode": {
    "name": "ipython",
    "version": 3
   },
   "file_extension": ".py",
   "mimetype": "text/x-python",
   "name": "python",
   "nbconvert_exporter": "python",
   "pygments_lexer": "ipython3",
   "version": "3.12.0"
  }
 },
 "nbformat": 4,
 "nbformat_minor": 2
}
