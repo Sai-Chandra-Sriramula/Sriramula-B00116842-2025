{
 "cells": [
  {
   "cell_type": "code",
   "execution_count": 1,
   "metadata": {},
   "outputs": [],
   "source": [
    "import os\n",
    "import numpy as np\n",
    "import tensorflow as tf\n",
    "from tensorflow.keras.applications import InceptionV3, ResNet50\n",
    "from tensorflow.keras.applications.inception_v3 import preprocess_input as inception_preprocess\n",
    "from tensorflow.keras.applications.resnet50 import preprocess_input as resnet_preprocess\n",
    "from tensorflow.keras.preprocessing.image import load_img, img_to_array\n",
    "from tensorflow.keras.models import Model\n",
    "import pickle"
   ]
  },
  {
   "cell_type": "code",
   "execution_count": 2,
   "metadata": {},
   "outputs": [
    {
     "name": "stdout",
     "output_type": "stream",
     "text": [
      "(None, 2048)\n",
      "(None, 2048)\n"
     ]
    }
   ],
   "source": [
    "from tensorflow.keras.layers import GlobalAveragePooling2D\n",
    "\n",
    "# Load InceptionV3 Model (Corrected)\n",
    "base_model_inception = InceptionV3(weights='imagenet', include_top=False)\n",
    "model_inception = Model(inputs=base_model_inception.input,\n",
    "                        outputs=GlobalAveragePooling2D()(base_model_inception.output))\n",
    "\n",
    "# Load ResNet50 Model (Corrected)\n",
    "base_model_resnet = ResNet50(weights='imagenet', include_top=False)\n",
    "model_resnet = Model(inputs=base_model_resnet.input,\n",
    "                     outputs=GlobalAveragePooling2D()(base_model_resnet.output))\n",
    "\n",
    "print(model_inception.output.shape)  # Should print (None, 2048)\n",
    "print(model_resnet.output.shape)     # Should print (None, 2048)\n"
   ]
  },
  {
   "cell_type": "code",
   "execution_count": null,
   "metadata": {},
   "outputs": [],
   "source": [
    "# Define image directory\n",
    "import os\n",
    "valid_folder = os.path.join(\"E:/Project/DATA/Flicker8k_Dataset/val\")\n",
    "\n",
    "\n",
    "\n",
    "# Get list of images\n",
    "image_files = [f for f in os.listdir(valid_folder) if f.endswith(\".jpg\")]\n",
    "\n",
    "# Store features\n",
    "features_valid_inception = {}\n",
    "features_valid_resnet = {}\n",
    "\n",
    "def extract_features(image_path, model, preprocess_func):\n",
    "    try:\n",
    "        img = load_img(image_path, target_size=(299, 299) if model.name == \"inception_v3\" else (224, 224))\n",
    "        img = img_to_array(img)\n",
    "        img = np.expand_dims(img, axis=0)\n",
    "        img = preprocess_func(img)\n",
    "        features = model.predict(img)\n",
    "        return features\n",
    "    except Exception as e:\n",
    "        print(f\"Error processing {image_path}: {e}\")\n",
    "        return None\n",
    "\n",
    "for img_name in image_files:\n",
    "    img_path = os.path.join(valid_folder, img_name)\n",
    "    \n",
    "    # Extract using InceptionV3\n",
    "    inception_features = extract_features(img_path, model_inception, inception_preprocess)\n",
    "    if inception_features is not None:\n",
    "        features_valid_inception[img_name] = inception_features\n",
    "\n",
    "    # Extract using ResNet50\n",
    "    resnet_features = extract_features(img_path, model_resnet, resnet_preprocess)\n",
    "    if resnet_features is not None:\n",
    "        features_valid_resnet[img_name] = resnet_features\n",
    "\n",
    "# Save features\n",
    "with open(\"features_valid_inception.pkl\", \"wb\") as f:\n",
    "    pickle.dump(features_valid_inception, f)\n",
    "\n",
    "with open(\"features_valid_resnet.pkl\", \"wb\") as f:\n",
    "    pickle.dump(features_valid_resnet, f)\n",
    "\n",
    "print(\"Feature extraction completed. Features saved as features_valid_inception.pkl and features_valid_resnet.pkl\")\n"
   ]
  }
 ],
 "metadata": {
  "kernelspec": {
   "display_name": "Python 3",
   "language": "python",
   "name": "python3"
  },
  "language_info": {
   "codemirror_mode": {
    "name": "ipython",
    "version": 3
   },
   "file_extension": ".py",
   "mimetype": "text/x-python",
   "name": "python",
   "nbconvert_exporter": "python",
   "pygments_lexer": "ipython3",
   "version": "3.12.0"
  }
 },
 "nbformat": 4,
 "nbformat_minor": 2
}
