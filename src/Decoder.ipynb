{
 "cells": [
  {
   "cell_type": "markdown",
   "metadata": {},
   "source": [
    "# Load Pretrained CNN Encoder"
   ]
  },
  {
   "cell_type": "code",
   "execution_count": 1,
   "metadata": {},
   "outputs": [],
   "source": [
    "import torch\n",
    "import torchvision.models as models\n",
    "import torch.nn as nn\n",
    "import torchvision.transforms as transforms\n",
    "from PIL import Image\n",
    "\n",
    "# Load pretrained ResNet model\n",
    "class EncoderCNN(nn.Module):\n",
    "    def __init__(self, embed_size):\n",
    "        super(EncoderCNN, self).__init__()\n",
    "        resnet = models.resnet50(pretrained=True)  # Load ResNet-50\n",
    "        for param in resnet.parameters():\n",
    "            param.requires_grad_(False)  # Freeze ResNet weights\n",
    "        \n",
    "        self.resnet = nn.Sequential(*list(resnet.children())[:-1])  # Remove last FC layer\n",
    "        self.fc = nn.Linear(resnet.fc.in_features, embed_size)  # Fully connected layer\n",
    "        self.bn = nn.BatchNorm1d(embed_size, momentum=0.01)\n",
    "\n",
    "    def forward(self, images):\n",
    "        features = self.resnet(images)\n",
    "        features = features.view(features.size(0), -1)\n",
    "        features = self.fc(features)\n",
    "        features = self.bn(features)\n",
    "        return features\n"
   ]
  },
  {
   "cell_type": "markdown",
   "metadata": {},
   "source": [
    "# Define RNN Decoder"
   ]
  },
  {
   "cell_type": "code",
   "execution_count": 2,
   "metadata": {},
   "outputs": [],
   "source": [
    "class DecoderRNN(nn.Module):\n",
    "    def __init__(self, embed_size, hidden_size, vocab_size, num_layers=1):\n",
    "        super(DecoderRNN, self).__init__()\n",
    "        self.embed = nn.Embedding(vocab_size, embed_size)\n",
    "        self.lstm = nn.LSTM(embed_size, hidden_size, num_layers, batch_first=True)\n",
    "        self.fc = nn.Linear(hidden_size, vocab_size)\n",
    "        self.dropout = nn.Dropout(0.5)\n",
    "\n",
    "    def forward(self, features, captions):\n",
    "        embeddings = self.embed(captions[:, :-1])  # Exclude <end> token\n",
    "        embeddings = torch.cat((features.unsqueeze(1), embeddings), 1)\n",
    "        lstm_out, _ = self.lstm(embeddings)\n",
    "        outputs = self.fc(lstm_out)\n",
    "        return outputs\n"
   ]
  },
  {
   "cell_type": "markdown",
   "metadata": {},
   "source": [
    "# **Step 2.1\n",
    "Loading features.pkl into PyTorch**"
   ]
  },
  {
   "cell_type": "code",
   "execution_count": 7,
   "metadata": {},
   "outputs": [
    {
     "name": "stdout",
     "output_type": "stream",
     "text": [
      "Image: 1000268201_693b08cb0e.jpg\n",
      "Feature Shape: torch.Size([2048])\n"
     ]
    }
   ],
   "source": [
    "import pickle\n",
    "import torch\n",
    "\n",
    "# Load precomputed features\n",
    "with open(\"E:\\\\Project\\\\features.pkl\", \"rb\") as f:\n",
    "    features = pickle.load(f)  # Dictionary: {image_name: feature_vector}\n",
    "\n",
    "# Convert features to PyTorch tensors\n",
    "features_torch = {k: torch.tensor(v) for k, v in features.items()}\n",
    "\n",
    "# Check one example\n",
    "sample_key = list(features_torch.keys())[0]\n",
    "print(f\"Image: {sample_key}\")\n",
    "print(f\"Feature Shape: {features_torch[sample_key].shape}\")\n"
   ]
  }
 ],
 "metadata": {
  "kernelspec": {
   "display_name": "Python 3",
   "language": "python",
   "name": "python3"
  },
  "language_info": {
   "codemirror_mode": {
    "name": "ipython",
    "version": 3
   },
   "file_extension": ".py",
   "mimetype": "text/x-python",
   "name": "python",
   "nbconvert_exporter": "python",
   "pygments_lexer": "ipython3",
   "version": "3.12.0"
  }
 },
 "nbformat": 4,
 "nbformat_minor": 2
}
